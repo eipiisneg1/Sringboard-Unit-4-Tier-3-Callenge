{
 "cells": [
  {
   "cell_type": "code",
   "execution_count": 5,
   "metadata": {
    "colab": {},
    "colab_type": "code",
    "id": "AiLiD4v3Jpgr",
    "pycharm": {
     "name": "#%%\n"
    }
   },
   "outputs": [
    {
     "name": "stdout",
     "output_type": "stream",
     "text": [
      "No duplicates\n",
      "Dataset rows and columns set\n"
     ]
    }
   ],
   "source": [
    "\"\"\"\n",
    "Dear Springboard Grader, \n",
    "    I took the video on self-reliance to heart and did \n",
    "nothing more than download tier 3, write the question down, \n",
    "and deleted most of the comments and instructions and went about\n",
    "it as though I were asked by my boss to get this information. \n",
    "It took a long time. maybe 13 hours. I know taht sounds crazy \n",
    "but I figured every litlle thing out and spent too much time \n",
    "on experimenting with python code. It was certainly a \n",
    "learnign experience. I choose not to answer the last modeling\n",
    "function because I just have to get going to the next module. \n",
    "I used the functions in my current code as proof that function \n",
    "would have been executed properly. I left brief comments along\n",
    "the way in order to show how may have been thinking in a real \n",
    "world task. ie: obviosuly the boroughs were accurate,\n",
    "but that may not have been obvious in the office environment. \n",
    "I was also begining to go down the rabbit hole with the graph \n",
    "when I couldn't figure out in a speedy way to adjust the\n",
    "borough names. Sorry. \n",
    "I look forward to your feedback. \n",
    "Cheers. \n",
    "Scott\n",
    "    \n",
    "\"\"\"\n",
    "\n",
    "import numpy as np\n",
    "import pandas as pd\n",
    "import matplotlib.pyplot as plt\n",
    "from datetime import datetime\n",
    "from datetime import date\n",
    "from datetime import timezone\n",
    "\n",
    "\"\"\"\n",
    "\n",
    "Which London borough has seen the greatest avgerage \n",
    "increase in housing prices over the dataset?\n",
    "\n",
    "The ‘annual’ percentage change in house prices is simply the\n",
    "price change relative to the same month twelve months earlier.\n",
    "\n",
    "This annual rate of price change reflects the best estimate for \n",
    "how much the value of a typical property has changed over the \n",
    "precedingtwelve months. Similar to the ‘annual’ change, \n",
    "the ‘monthly’ percentage change estimates the percentage \n",
    "change in average house prices relative to the previous month.\n",
    "  \n",
    "\"\"\"\n",
    "\n",
    "def change_date(timestamp_list):\n",
    "\tdict_key = []\n",
    "\tdict_value = []\n",
    "\tfor name in timestamp_list:\n",
    "\t\tt = name\n",
    "\t\tu = t.date()\n",
    "\t\tv = f'{u.day}-{u.month}-{u.year}'\n",
    "\t\tdict_key.append(t)\n",
    "\t\tdict_value.append(v)\n",
    "\tcol_dict = dict(zip(dict_key,dict_value))\n",
    "\treturn col_dict\n",
    "\n",
    "\n",
    "def avg_increase(last: float,first: float) -> float:\n",
    "\treturn round(((last - first) / first) * 100)\n",
    "\n",
    "\n",
    "url_LondonHousePrices = \"https://data.london.gov.uk/download/uk-\" \\\n",
    "                        \"house-price-index/70ac0766-8902-4eb5-aab5-\" \\\n",
    "                        \"01951aaed773/UK%20House%20price%20index.xls\"\n",
    "\n",
    "properties = pd.read_excel(url_LondonHousePrices,\n",
    "                           sheet_name=\"Average price\",index_col=None)\n",
    "\n",
    "# list of actual boroughs: real world details\n",
    "actual_boroughs = sorted(['Westminster',\n",
    "                          'Kensington & Chelsea',\n",
    "                          'Hammersmith & Fulham',\n",
    "                          'Wandsworth',\n",
    "                          'Lambeth',\n",
    "                          'Southwark',\n",
    "                          'Tower Hamlets',\n",
    "                          'Hackney',\n",
    "                          'Islington',\n",
    "                          'Camden',\n",
    "                          'Brent',\n",
    "                          'Ealing',\n",
    "                          'Hounslow',\n",
    "                          'Richmond upon Thames',\n",
    "                          'Kingston upon Thames',\n",
    "                          'Merton',\n",
    "                          'Sutton',\n",
    "                          'Croydon',\n",
    "                          'Bromley',\n",
    "                          'Lewisham',\n",
    "                          'Greenwich',\n",
    "                          'Bexley',\n",
    "                          'Havering',\n",
    "                          'Barking and Dagenham',\n",
    "                          'Redbridge',\n",
    "                          'Newham',\n",
    "                          'Waltham Forest',\n",
    "                          'Haringey',\n",
    "                          'Enfield',\n",
    "                          'Barnet',\n",
    "                          'Harrow',\n",
    "                          'Hillingdon'])\n",
    "\n",
    "# data set boroughs for later comparison\n",
    "data_set_boroughs = list(properties.columns)\n",
    "\n",
    "# see what's going on\n",
    "hd = properties.head()\n",
    "shp = properties.shape  # 329, 49\n",
    "d_type = properties.dtypes\n",
    "\n",
    "# deal with unneeded columns\n",
    "for (name,series) in properties.iteritems():\n",
    "\tif series.isna().all():\n",
    "\t\tproperties.drop(name,axis=1,inplace=True)\n",
    "\n",
    "properties.rename(columns={'Unnamed: 0': 'Date'},inplace=True)\n",
    "test_date = properties.loc[:1,'Date']\n",
    "\n",
    "# deal with unneeded rows\n",
    "dups = properties.duplicated()\n",
    "if dups.any():\n",
    "\tfor j,k in enumerate(dups):\n",
    "\t\tif k:\n",
    "\t\t\tprint(f'delete {j}\\nIs duplicate')\n",
    "\t\t\tproperties.drop_duplicates(j,axis=1,inplace=True)\n",
    "else:\n",
    "\tprint('No duplicates')\n",
    "\n",
    "properties.drop(index=0,axis=0,inplace=True)\n",
    "properties.drop(columns='City of London',axis=1,inplace=True)\n",
    "\n",
    "# verify real world vs data set\n",
    "actual_boroughs.append(\"Date\")\n",
    "length_west = properties.loc[:,:'Westminster']\n",
    "list_west = [i.strip() for i in sorted(list(properties.loc[:,:'Westminster']))]\n",
    "actual_boroughs_1 = [i.strip() for i in sorted(actual_boroughs)]\n",
    "\n",
    "for i in list_west:\n",
    "\tfor j in actual_boroughs_1:\n",
    "\t\tif i == j:\n",
    "\t\t\tcontinue\n",
    "print('Dataset rows and columns set')"
   ]
  },
  {
   "cell_type": "code",
   "execution_count": 6,
   "metadata": {},
   "outputs": [],
   "source": [
    "# make things easier on the eyes\n",
    "length_west_tr = length_west.transpose()\n",
    "length_west_tr.reset_index(inplace=True)\n",
    "header_row = length_west_tr.iloc[0]\n",
    "t_spose = pd.DataFrame(length_west_tr.values[1:],columns=header_row)\n",
    "t_spose.rename(columns={\"Date\": \"Borough\"},inplace=True)\n",
    "t_spose.set_index('Borough',inplace=True)\n",
    "date_list = list(t_spose.columns)\n",
    "t_spose.rename(columns=change_date(date_list),inplace=True)\n",
    "\n",
    "# calculate average increase and present findings\n",
    "average_increase = []\n",
    "for index,rows in t_spose.iterrows():\n",
    "\taverage_increase.append(avg_increase(rows[-1],rows[0]))\n",
    "t_spose['Average Increase'] = average_increase"
   ]
  },
  {
   "cell_type": "code",
   "execution_count": 7,
   "metadata": {
    "colab": {},
    "colab_type": "code",
    "id": "nAg5pT9cqHAR",
    "pycharm": {
     "name": "#%%\n"
    }
   },
   "outputs": [
    {
     "name": "stderr",
     "output_type": "stream",
     "text": [
      "/var/folders/lc/nbgy6kvs4bzdy9cwsd9m4f600000gn/T/ipykernel_21014/242393337.py:10: UserWarning: Matplotlib is currently using module://matplotlib_inline.backend_inline, which is a non-GUI backend, so cannot show the figure.\n",
      "  fig.show()\n"
     ]
    },
    {
     "data": {
      "image/png": "[encoded data removed]",
      "text/plain": [
       "<Figure size 432x288 with 1 Axes>"
      ]
     },
     "metadata": {
      "needs_background": "light"
     },
     "output_type": "display_data"
    }
   ],
   "source": [
    "# let's see what is looks like\n",
    "winner = t_spose['Average Increase']\n",
    "x_axis = list(t_spose['Average Increase'].index)\n",
    "fig, ax = plt.subplots()\n",
    "\n",
    "ax.barh(x_axis, winner, align=\"center\")\n",
    "ax.set_xlabel(\"Percentage Increase\")\n",
    "ax.set_ylabel(\"Borough\")\n",
    "ax.set_title(\"London Percentage Housing Increases since 1995\")\n",
    "fig.show()"
   ]
  },
  {
   "cell_type": "code",
   "execution_count": 8,
   "metadata": {
    "colab": {},
    "colab_type": "code",
    "id": "cKTyr437UgDa",
    "pycharm": {
     "name": "#%%\n"
    }
   },
   "outputs": [
    {
     "name": "stdout",
     "output_type": "stream",
     "text": [
      "Hackney had the highest increase since 1995 at 890%\n"
     ]
    }
   ],
   "source": [
    "print(f\"{t_spose['Average Increase'].idxmax()} had the highest increase \"\n",
    "      f\"since 1995 at {t_spose['Average Increase'].max()}%\")"
   ]
  },
  {
   "cell_type": "code",
   "execution_count": null,
   "metadata": {},
   "outputs": [],
   "source": []
  }
 ],
 "metadata": {
  "colab": {
   "collapsed_sections": [],
   "name": "Springboard Data Science Career Track Unit 4 Challenge - Tier 3 Complete .ipynb",
   "provenance": []
  },
  "kernelspec": {
   "display_name": "Python 3 (ipykernel)",
   "language": "python",
   "name": "python3"
  },
  "language_info": {
   "codemirror_mode": {
    "name": "ipython",
    "version": 3
   },
   "file_extension": ".py",
   "mimetype": "text/x-python",
   "name": "python",
   "nbconvert_exporter": "python",
   "pygments_lexer": "ipython3",
   "version": "3.9.7"
  }
 },
 "nbformat": 4,
 "nbformat_minor": 1
}
